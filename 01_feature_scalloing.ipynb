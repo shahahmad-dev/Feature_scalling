{
 "cells": [
  {
   "cell_type": "markdown",
   "id": "78a8b15b",
   "metadata": {},
   "source": [
    "# **Feature Scalling**"
   ]
  },
  {
   "cell_type": "code",
   "execution_count": 1,
   "id": "05fa319d",
   "metadata": {},
   "outputs": [],
   "source": [
    "# Install sklearn\n",
    "# %pip install scikit-learn"
   ]
  },
  {
   "cell_type": "markdown",
   "id": "193f5a95",
   "metadata": {},
   "source": [
    "# **1- Mix Max Scaler**"
   ]
  },
  {
   "cell_type": "code",
   "execution_count": 2,
   "id": "b2669697",
   "metadata": {},
   "outputs": [],
   "source": [
    "import pandas as pd\n",
    "import numpy as np\n",
    "from sklearn.preprocessing import StandardScaler, MinMaxScaler, RobustScaler\n",
    "\n",
    "data = {'Values':[10,20,30,40,50,60,70,80,90]}\n",
    "df = pd.DataFrame(data)"
   ]
  },
  {
   "cell_type": "code",
   "execution_count": null,
   "id": "274aacb8",
   "metadata": {},
   "outputs": [
    {
     "data": {
      "text/html": [
       "<div>\n",
       "<style scoped>\n",
       "    .dataframe tbody tr th:only-of-type {\n",
       "        vertical-align: middle;\n",
       "    }\n",
       "\n",
       "    .dataframe tbody tr th {\n",
       "        vertical-align: top;\n",
       "    }\n",
       "\n",
       "    .dataframe thead th {\n",
       "        text-align: right;\n",
       "    }\n",
       "</style>\n",
       "<table border=\"1\" class=\"dataframe\">\n",
       "  <thead>\n",
       "    <tr style=\"text-align: right;\">\n",
       "      <th></th>\n",
       "      <th>Values</th>\n",
       "      <th>MinMaxScaler</th>\n",
       "    </tr>\n",
       "  </thead>\n",
       "  <tbody>\n",
       "    <tr>\n",
       "      <th>0</th>\n",
       "      <td>10</td>\n",
       "      <td>0.000</td>\n",
       "    </tr>\n",
       "    <tr>\n",
       "      <th>1</th>\n",
       "      <td>20</td>\n",
       "      <td>0.125</td>\n",
       "    </tr>\n",
       "    <tr>\n",
       "      <th>2</th>\n",
       "      <td>30</td>\n",
       "      <td>0.250</td>\n",
       "    </tr>\n",
       "    <tr>\n",
       "      <th>3</th>\n",
       "      <td>40</td>\n",
       "      <td>0.375</td>\n",
       "    </tr>\n",
       "    <tr>\n",
       "      <th>4</th>\n",
       "      <td>50</td>\n",
       "      <td>0.500</td>\n",
       "    </tr>\n",
       "  </tbody>\n",
       "</table>\n",
       "</div>"
      ],
      "text/plain": [
       "   Values  MinMaxScaler\n",
       "0      10         0.000\n",
       "1      20         0.125\n",
       "2      30         0.250\n",
       "3      40         0.375\n",
       "4      50         0.500"
      ]
     },
     "execution_count": 3,
     "metadata": {},
     "output_type": "execute_result"
    }
   ],
   "source": [
    "# Data \n",
    "data = {'Values':[10,20,30,40,50,60,70,80,90]}\n",
    "df = pd.DataFrame(data)\n",
    "# Scale the data using MinMaxScaler method\n",
    "scaler = MinMaxScaler()\n",
    "df['MinMaxScaler'] = scaler.fit_transform(df[['Values']])\n",
    "df.head()"
   ]
  },
  {
   "cell_type": "markdown",
   "id": "875bda1e",
   "metadata": {},
   "source": [
    "# **2- Standard scaler or Z-score normalization**"
   ]
  },
  {
   "cell_type": "code",
   "execution_count": 19,
   "id": "2b4802ce",
   "metadata": {},
   "outputs": [
    {
     "data": {
      "text/html": [
       "<div>\n",
       "<style scoped>\n",
       "    .dataframe tbody tr th:only-of-type {\n",
       "        vertical-align: middle;\n",
       "    }\n",
       "\n",
       "    .dataframe tbody tr th {\n",
       "        vertical-align: top;\n",
       "    }\n",
       "\n",
       "    .dataframe thead th {\n",
       "        text-align: right;\n",
       "    }\n",
       "</style>\n",
       "<table border=\"1\" class=\"dataframe\">\n",
       "  <thead>\n",
       "    <tr style=\"text-align: right;\">\n",
       "      <th></th>\n",
       "      <th>Values</th>\n",
       "      <th>StandardScaler</th>\n",
       "    </tr>\n",
       "  </thead>\n",
       "  <tbody>\n",
       "    <tr>\n",
       "      <th>0</th>\n",
       "      <td>1000</td>\n",
       "      <td>1.551081</td>\n",
       "    </tr>\n",
       "    <tr>\n",
       "      <th>1</th>\n",
       "      <td>20</td>\n",
       "      <td>-1.144591</td>\n",
       "    </tr>\n",
       "    <tr>\n",
       "      <th>2</th>\n",
       "      <td>30</td>\n",
       "      <td>-1.117084</td>\n",
       "    </tr>\n",
       "    <tr>\n",
       "      <th>3</th>\n",
       "      <td>840</td>\n",
       "      <td>1.110972</td>\n",
       "    </tr>\n",
       "    <tr>\n",
       "      <th>4</th>\n",
       "      <td>530</td>\n",
       "      <td>0.258259</td>\n",
       "    </tr>\n",
       "  </tbody>\n",
       "</table>\n",
       "</div>"
      ],
      "text/plain": [
       "   Values  StandardScaler\n",
       "0    1000        1.551081\n",
       "1      20       -1.144591\n",
       "2      30       -1.117084\n",
       "3     840        1.110972\n",
       "4     530        0.258259"
      ]
     },
     "execution_count": 19,
     "metadata": {},
     "output_type": "execute_result"
    }
   ],
   "source": [
    "# Data \n",
    "data = {'Values':[1000,20,30,840,530,605,730,80,90]}\n",
    "df = pd.DataFrame(data)\n",
    "scaler = StandardScaler()\n",
    "df['StandardScaler'] = scaler.fit_transform(df[['Values']])\n",
    "df.head()"
   ]
  },
  {
   "cell_type": "markdown",
   "id": "b912c785",
   "metadata": {},
   "source": [
    "# **3- Robust scaler**"
   ]
  },
  {
   "cell_type": "code",
   "execution_count": 20,
   "id": "7d7ec0ca",
   "metadata": {},
   "outputs": [
    {
     "data": {
      "text/html": [
       "<div>\n",
       "<style scoped>\n",
       "    .dataframe tbody tr th:only-of-type {\n",
       "        vertical-align: middle;\n",
       "    }\n",
       "\n",
       "    .dataframe tbody tr th {\n",
       "        vertical-align: top;\n",
       "    }\n",
       "\n",
       "    .dataframe thead th {\n",
       "        text-align: right;\n",
       "    }\n",
       "</style>\n",
       "<table border=\"1\" class=\"dataframe\">\n",
       "  <thead>\n",
       "    <tr style=\"text-align: right;\">\n",
       "      <th></th>\n",
       "      <th>Values</th>\n",
       "      <th>RobustScaler</th>\n",
       "    </tr>\n",
       "  </thead>\n",
       "  <tbody>\n",
       "    <tr>\n",
       "      <th>0</th>\n",
       "      <td>1000</td>\n",
       "      <td>1.551081</td>\n",
       "    </tr>\n",
       "    <tr>\n",
       "      <th>1</th>\n",
       "      <td>20</td>\n",
       "      <td>-1.144591</td>\n",
       "    </tr>\n",
       "    <tr>\n",
       "      <th>2</th>\n",
       "      <td>30</td>\n",
       "      <td>-1.117084</td>\n",
       "    </tr>\n",
       "    <tr>\n",
       "      <th>3</th>\n",
       "      <td>840</td>\n",
       "      <td>1.110972</td>\n",
       "    </tr>\n",
       "    <tr>\n",
       "      <th>4</th>\n",
       "      <td>530</td>\n",
       "      <td>0.258259</td>\n",
       "    </tr>\n",
       "  </tbody>\n",
       "</table>\n",
       "</div>"
      ],
      "text/plain": [
       "   Values  RobustScaler\n",
       "0    1000      1.551081\n",
       "1      20     -1.144591\n",
       "2      30     -1.117084\n",
       "3     840      1.110972\n",
       "4     530      0.258259"
      ]
     },
     "execution_count": 20,
     "metadata": {},
     "output_type": "execute_result"
    }
   ],
   "source": [
    "# Data \n",
    "data = {'Values':[1000,20,30,840,530,605,730,80,90]}\n",
    "df = pd.DataFrame(data)\n",
    "scaller = RobustScaler()\n",
    "df['RobustScaler'] = scaler.fit_transform(df[['Values']])\n",
    "df.head()"
   ]
  },
  {
   "cell_type": "markdown",
   "id": "ec804567",
   "metadata": {},
   "source": [
    "# **4- Logarithmic scaler / normalization**"
   ]
  },
  {
   "cell_type": "code",
   "execution_count": 24,
   "id": "32426a75",
   "metadata": {},
   "outputs": [
    {
     "data": {
      "text/html": [
       "<div>\n",
       "<style scoped>\n",
       "    .dataframe tbody tr th:only-of-type {\n",
       "        vertical-align: middle;\n",
       "    }\n",
       "\n",
       "    .dataframe tbody tr th {\n",
       "        vertical-align: top;\n",
       "    }\n",
       "\n",
       "    .dataframe thead th {\n",
       "        text-align: right;\n",
       "    }\n",
       "</style>\n",
       "<table border=\"1\" class=\"dataframe\">\n",
       "  <thead>\n",
       "    <tr style=\"text-align: right;\">\n",
       "      <th></th>\n",
       "      <th>Values</th>\n",
       "      <th>Log</th>\n",
       "      <th>Log10</th>\n",
       "    </tr>\n",
       "  </thead>\n",
       "  <tbody>\n",
       "    <tr>\n",
       "      <th>0</th>\n",
       "      <td>1000</td>\n",
       "      <td>6.907755</td>\n",
       "      <td>9.965784</td>\n",
       "    </tr>\n",
       "    <tr>\n",
       "      <th>1</th>\n",
       "      <td>10000</td>\n",
       "      <td>9.210340</td>\n",
       "      <td>13.287712</td>\n",
       "    </tr>\n",
       "    <tr>\n",
       "      <th>2</th>\n",
       "      <td>100001</td>\n",
       "      <td>11.512935</td>\n",
       "      <td>16.609655</td>\n",
       "    </tr>\n",
       "    <tr>\n",
       "      <th>3</th>\n",
       "      <td>120000</td>\n",
       "      <td>11.695247</td>\n",
       "      <td>16.872675</td>\n",
       "    </tr>\n",
       "    <tr>\n",
       "      <th>4</th>\n",
       "      <td>1400000</td>\n",
       "      <td>14.151983</td>\n",
       "      <td>20.416995</td>\n",
       "    </tr>\n",
       "  </tbody>\n",
       "</table>\n",
       "</div>"
      ],
      "text/plain": [
       "    Values        Log      Log10\n",
       "0     1000   6.907755   9.965784\n",
       "1    10000   9.210340  13.287712\n",
       "2   100001  11.512935  16.609655\n",
       "3   120000  11.695247  16.872675\n",
       "4  1400000  14.151983  20.416995"
      ]
     },
     "execution_count": 24,
     "metadata": {},
     "output_type": "execute_result"
    }
   ],
   "source": [
    "data = {'Values':[1000, 10000, 100001, 120000, 1400000]}\n",
    "df = pd.DataFrame(data)\n",
    "\n",
    "df['Log'] = np.log(df[['Values']])\n",
    "df['Log10'] = np.log2(df[['Values']])\n",
    "df.head()"
   ]
  },
  {
   "cell_type": "code",
   "execution_count": null,
   "id": "773ec4f6",
   "metadata": {},
   "outputs": [],
   "source": []
  }
 ],
 "metadata": {
  "kernelspec": {
   "display_name": "python_eda",
   "language": "python",
   "name": "python3"
  },
  "language_info": {
   "codemirror_mode": {
    "name": "ipython",
    "version": 3
   },
   "file_extension": ".py",
   "mimetype": "text/x-python",
   "name": "python",
   "nbconvert_exporter": "python",
   "pygments_lexer": "ipython3",
   "version": "3.13.5"
  }
 },
 "nbformat": 4,
 "nbformat_minor": 5
}
